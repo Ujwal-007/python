{
 "cells": [
  {
   "cell_type": "code",
   "execution_count": 2,
   "id": "b227368c-93a3-4f01-afb0-9139648f0052",
   "metadata": {},
   "outputs": [],
   "source": [
    "import numpy as np\n",
    "\n",
    "def sigmoid(x):\n",
    "    return 1 / (1 + np.exp(-x))\n",
    "\n",
    "def sigmoid_derivative(x):\n",
    "    return x * (1 - x)\n",
    "\n",
    "class NeuralNetwork:\n",
    "    def __init__(self, input_size, hidden_size, output_size):\n",
    "        self.input_size = input_size\n",
    "        self.hidden_size = hidden_size\n",
    "        self.output_size = output_size\n",
    "        # Initialize weights with smaller random values\n",
    "        self.weights1 = np.random.randn(self.input_size, self.hidden_size) * 0.1\n",
    "        self.weights2 = np.random.randn(self.hidden_size, self.output_size) * 0.1\n",
    "        self.bias1 = np.zeros((1, self.hidden_size))\n",
    "        self.bias2 = np.zeros((1, self.output_size))\n",
    "\n",
    "    def forward(self, X):\n",
    "        self.hidden_layer = sigmoid(np.dot(X, self.weights1) + self.bias1)\n",
    "        self.output_layer = sigmoid(np.dot(self.hidden_layer, self.weights2) + self.bias2)\n",
    "        return self.output_layer\n",
    "\n",
    "    def backward(self, X, y, learning_rate):\n",
    "        # Compute the error\n",
    "        output_error = y - self.output_layer\n",
    "        output_delta = output_error * sigmoid_derivative(self.output_layer)\n",
    "        \n",
    "        # Compute the error for the hidden layer\n",
    "        hidden_error = output_delta.dot(self.weights2.T)\n",
    "        hidden_delta = hidden_error * sigmoid_derivative(self.hidden_layer)\n",
    "        \n",
    "        # Update weights and biases\n",
    "        self.weights2 += self.hidden_layer.T.dot(output_delta) * learning_rate\n",
    "        self.weights1 += X.T.dot(hidden_delta) * learning_rate\n",
    "        self.bias2 += np.sum(output_delta, axis=0, keepdims=True) * learning_rate\n",
    "        self.bias1 += np.sum(hidden_delta, axis=0, keepdims=True) * learning_rate\n",
    "\n",
    "    def train(self, X, y, epochs, learning_rate):\n",
    "        for epoch in range(epochs):\n",
    "            self.forward(X)\n",
    "            self.backward(X, y, learning_rate)\n",
    "            if (epoch + 1) % 1000 == 0:\n",
    "                loss = np.mean(np.square(y - self.output_layer))\n",
    "                print(f'Epoch {epoch + 1}, Loss: {loss:.4f}')\n",
    "\n",
    "    def predict(self, X):\n",
    "        return self.forward(X)\n",
    "\n"
   ]
  },
  {
   "cell_type": "code",
   "execution_count": 4,
   "id": "ad301dce-d272-45ce-b426-72b8cc73d397",
   "metadata": {},
   "outputs": [
    {
     "name": "stdout",
     "output_type": "stream",
     "text": [
      "Epoch 1000, Loss: 0.2500\n",
      "Epoch 2000, Loss: 0.2500\n",
      "Epoch 3000, Loss: 0.2500\n",
      "Epoch 4000, Loss: 0.2500\n",
      "Epoch 5000, Loss: 0.2500\n",
      "Epoch 6000, Loss: 0.2500\n",
      "Epoch 7000, Loss: 0.2500\n",
      "Epoch 8000, Loss: 0.2500\n",
      "Epoch 9000, Loss: 0.2500\n",
      "Epoch 10000, Loss: 0.2500\n",
      "Predictions:\n",
      " [[0.50030262]\n",
      " [0.49921596]\n",
      " [0.50076325]\n",
      " [0.49967141]]\n"
     ]
    }
   ],
   "source": [
    "if __name__ == \"__main__\":\n",
    "    # Define input and output data\n",
    "    X = np.array([[0, 0], [0, 1], [1, 0], [1, 1]])\n",
    "    y = np.array([[0], [1], [1], [0]])\n",
    "\n",
    "    # Create and train the neural network\n",
    "    nn = NeuralNetwork(input_size=2, hidden_size=2, output_size=1)\n",
    "    nn.train(X, y, epochs=10000, learning_rate=0.1)\n",
    "\n",
    "    # Make predictions\n",
    "    predictions = nn.predict(X)\n",
    "    print(\"Predictions:\\n\", predictions)\n"
   ]
  }
 ],
 "metadata": {
  "kernelspec": {
   "display_name": "Python 3 (ipykernel)",
   "language": "python",
   "name": "python3"
  },
  "language_info": {
   "codemirror_mode": {
    "name": "ipython",
    "version": 3
   },
   "file_extension": ".py",
   "mimetype": "text/x-python",
   "name": "python",
   "nbconvert_exporter": "python",
   "pygments_lexer": "ipython3",
   "version": "3.12.4"
  }
 },
 "nbformat": 4,
 "nbformat_minor": 5
}

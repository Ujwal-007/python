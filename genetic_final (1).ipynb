{
  "nbformat": 4,
  "nbformat_minor": 0,
  "metadata": {
    "colab": {
      "provenance": []
    },
    "kernelspec": {
      "name": "python3",
      "display_name": "Python 3"
    },
    "language_info": {
      "name": "python"
    }
  },
  "cells": [
    {
      "cell_type": "code",
      "execution_count": 342,
      "metadata": {
        "id": "KZKeJw9QxNWI"
      },
      "outputs": [],
      "source": [
        "import random"
      ]
    },
    {
      "cell_type": "code",
      "source": [
        "popn_size = 10\n",
        "bit_len = 10\n",
        "mut_rate = 0.1\n",
        "gen = 10"
      ],
      "metadata": {
        "id": "feYn_4BCxOy0"
      },
      "execution_count": 343,
      "outputs": []
    },
    {
      "cell_type": "code",
      "source": [
        "def fitness_function(x):\n",
        "    x_real = decode_binary(x)\n",
        "    return abs(3*x_real**2 - 11*x_real + 4)"
      ],
      "metadata": {
        "id": "rEKsHp3txZKO"
      },
      "execution_count": 344,
      "outputs": []
    },
    {
      "cell_type": "code",
      "source": [
        "def decode_binary(x):\n",
        "    sign_bit = int(x[0])\n",
        "    integer_part = int(x[1:4], 2)\n",
        "    fractional_part = int(x[4:], 2) / 2**6\n",
        "    x_real = (-1)**sign_bit * (integer_part + fractional_part)\n",
        "    return x_real"
      ],
      "metadata": {
        "id": "hxr5XLuvxiWz"
      },
      "execution_count": 345,
      "outputs": []
    },
    {
      "cell_type": "code",
      "source": [
        "def initialize_population(population_size):\n",
        "    population = []\n",
        "    for _ in range(population_size):\n",
        "        individual = ''.join(random.choice('01') for _ in range(bit_len))\n",
        "        population.append(individual)\n",
        "    return population"
      ],
      "metadata": {
        "id": "flkVK7Wkx07P"
      },
      "execution_count": 346,
      "outputs": []
    },
    {
      "cell_type": "code",
      "source": [
        "def crossover(parent1, parent2):\n",
        "    child1 = []\n",
        "    child2 = []\n",
        "    for i in range(bit_len):\n",
        "        if random.random() < 0.5:\n",
        "            child1.append(parent1[i])\n",
        "            child2.append(parent2[i])\n",
        "        else:\n",
        "            child1.append(parent2[i])\n",
        "            child2.append(parent1[i])\n",
        "    return ''.join(child1), ''.join(child2)"
      ],
      "metadata": {
        "id": "DxId_avZx8ls"
      },
      "execution_count": 347,
      "outputs": []
    },
    {
      "cell_type": "code",
      "source": [
        "def mutate(individual):\n",
        "    mutated_individual = list(individual)\n",
        "    for i in range(bit_len):\n",
        "        if random.random() < mut_rate:\n",
        "            mutated_individual[i] = '0' if individual[i] == '1' else '1'\n",
        "    return ''.join(mutated_individual)"
      ],
      "metadata": {
        "id": "FGJH3PocyAZ2"
      },
      "execution_count": 348,
      "outputs": []
    },
    {
      "cell_type": "code",
      "source": [
        "def roulette_wheel_selection(population, fitness_values):\n",
        "    total_fitness = sum(fitness_values)\n",
        "    probabilities = [fitness / total_fitness for fitness in fitness_values]\n",
        "    pointer = random.random()\n",
        "    cumulative_prob = 0\n",
        "    for i, prob in enumerate(probabilities):\n",
        "        cumulative_prob += prob\n",
        "        if pointer <= cumulative_prob:\n",
        "            return population[i]"
      ],
      "metadata": {
        "id": "wdYV6dlUyFY-"
      },
      "execution_count": 349,
      "outputs": []
    },
    {
      "cell_type": "code",
      "source": [
        "def genetic_algorithm():\n",
        "    population = initialize_population(popn_size)\n",
        "    for generation in range(gen):\n",
        "        fitness_values = [fitness_function(x) for x in population]\n",
        "        parent1 = roulette_wheel_selection(population, fitness_values)\n",
        "        parent2 = roulette_wheel_selection(population, fitness_values)\n",
        "        child1, child2 = crossover(parent1, parent2)\n",
        "        child1 = mutate(child1)\n",
        "        child2 = mutate(child2)\n",
        "        population.sort(key=lambda x: fitness_function(x))\n",
        "        population[-2] = child1\n",
        "        population[-1] = child2\n",
        "    best_individual = min(population, key=fitness_function)\n",
        "    best_solution = decode_binary(best_individual)\n",
        "    return best_individual, best_solution"
      ],
      "metadata": {
        "id": "mQj6R1aZyIT1"
      },
      "execution_count": 350,
      "outputs": []
    },
    {
      "cell_type": "code",
      "source": [
        "best_individual, best_solution = genetic_algorithm()\n",
        "best_fitness = fitness_function(best_individual)"
      ],
      "metadata": {
        "id": "Y_YtS_d5yRRx"
      },
      "execution_count": 351,
      "outputs": []
    },
    {
      "cell_type": "code",
      "source": [
        "print(f\"Best individual found: {best_individual}\")\n",
        "print(f\"Decoded best solution: x = {best_solution}, Fitness = {best_fitness}\")"
      ],
      "metadata": {
        "colab": {
          "base_uri": "https://localhost:8080/"
        },
        "id": "VCKTGL9yGrEU",
        "outputId": "43df38a6-ea50-420b-e529-36658c0b1c08"
      },
      "execution_count": 352,
      "outputs": [
        {
          "output_type": "stream",
          "name": "stdout",
          "text": [
            "Best individual found: 0010011101\n",
            "Decoded best solution: x = 2.453125, Fitness = 4.930908203125\n"
          ]
        }
      ]
    }
  ]
}